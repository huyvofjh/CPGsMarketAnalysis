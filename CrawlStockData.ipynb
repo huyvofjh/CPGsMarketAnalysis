{
 "cells": [
  {
   "cell_type": "code",
   "execution_count": 1,
   "id": "383a3807",
   "metadata": {},
   "outputs": [],
   "source": [
    "# Import libraries\n",
    "import pandas as pd \n",
    "import time \n",
    "from selenium import webdriver\n",
    "from selenium.webdriver.support.select import Select \n",
    "from selenium.webdriver.common.by import By \n",
    "from selenium.webdriver.common.keys import Keys\n",
    "from selenium.common.exceptions import StaleElementReferenceException\n",
    "from selenium.common.exceptions import NoSuchElementException "
   ]
  },
  {
   "cell_type": "markdown",
   "id": "82e61be6",
   "metadata": {},
   "source": [
    "### Crawl Data"
   ]
  },
  {
   "cell_type": "code",
   "execution_count": 2,
   "id": "b3122d1a",
   "metadata": {},
   "outputs": [
    {
     "name": "stderr",
     "output_type": "stream",
     "text": [
      "C:\\Users\\ADMIN\\AppData\\Local\\Temp\\ipykernel_13272\\989879175.py:2: DeprecationWarning: executable_path has been deprecated, please pass in a Service object\n",
      "  driver = webdriver.Chrome('chromedriver.exe')\n"
     ]
    }
   ],
   "source": [
    "# Declare browser \n",
    "driver = webdriver.Chrome('chromedriver.exe')\n",
    "\n",
    "# Open url \n",
    "driver.get('https://finance.yahoo.com/')\n",
    "driver.maximize_window()\n",
    "time.sleep(1)\n",
    "#sleep(random.randint(1,5))\n",
    "\n",
    "stock_name = driver.find_element(By.XPATH,'//form[@class=\"Pos(r)\"]/input')\n",
    "stock_name.click()\n",
    "stock_name.send_keys('PG')\n",
    "time.sleep(1)\n",
    "\n",
    "search = driver.find_element(By.XPATH, '//form[@class=\"Pos(r)\"]/button[2]')\n",
    "search.click()\n",
    "time.sleep(1)"
   ]
  },
  {
   "cell_type": "code",
   "execution_count": 3,
   "id": "c093dee7",
   "metadata": {},
   "outputs": [],
   "source": [
    "historical_data = driver.find_element(By.XPATH,'//div[@id=\"quote-nav\"]/ul/li[5]/a/span')\n",
    "historical_data.click()\n",
    "time.sleep(1)\n",
    "\n",
    "time_period = driver.find_element(By.XPATH,'//div[@class=\"Pos(r) D(ib) C($linkColor) Cur(p)\"]/span')\n",
    "time_period.click()\n",
    "time.sleep(1)\n",
    "\n",
    "StartDate = driver.find_element(By.XPATH,'//input[@name=\"startDate\"]')\n",
    "StartDate.click()\n",
    "time.sleep(1)\n",
    "\n",
    "t = driver.find_element(By.XPATH,'//div[@class=\"W(195px)\"]/ul[2]/li[3]/button/span')\n",
    "t.click()\n",
    "\n",
    "apply =driver.find_element(By.XPATH,'//div[@class=\"Bgc($lv1BgColor) Bdrs(3px) P(10px)\"]/button/span')\n",
    "apply.click()\n",
    "time.sleep(1)"
   ]
  },
  {
   "cell_type": "code",
   "execution_count": 4,
   "id": "7ea013fe",
   "metadata": {},
   "outputs": [],
   "source": [
    "# Scroll down to the bottom of the page \n",
    "element = driver.find_element(By.TAG_NAME,'body')\n",
    "i = 1 \n",
    "while i<65:\n",
    "    element.send_keys(Keys.PAGE_DOWN)\n",
    "    time.sleep(3)\n",
    "    i+=1 "
   ]
  },
  {
   "cell_type": "code",
   "execution_count": 5,
   "id": "9bae77c2",
   "metadata": {},
   "outputs": [],
   "source": [
    "# Crawl date\n",
    "date = []\n",
    "date_list = driver.find_elements(By.XPATH,'//tbody/tr[@class=\"BdT Bdc($seperatorColor) Ta(end) Fz(s) Whs(nw)\"]/td[1]')\n",
    "\n",
    "for i in range(len(date_list)):\n",
    "    date.append(date_list[i].text)"
   ]
  },
  {
   "cell_type": "code",
   "execution_count": 6,
   "id": "fea8722d",
   "metadata": {},
   "outputs": [],
   "source": [
    "# Crawl price \n",
    "name, price, volume = [], [], []\n",
    "names = 'PG'\n",
    "\n",
    "prices = driver.find_elements(By.XPATH,'//tbody/tr[@class=\"BdT Bdc($seperatorColor) Ta(end) Fz(s) Whs(nw)\"]/td[5]')\n",
    "volumes = driver.find_elements(By.XPATH,'//tbody/tr[@class=\"BdT Bdc($seperatorColor) Ta(end) Fz(s) Whs(nw)\"]/td[7]')\n",
    "\n",
    "for i in range(len(prices)):\n",
    "    name.append(names)\n",
    "    price.append(prices[i].text)\n",
    "    volume.append(volumes[i].text)"
   ]
  },
  {
   "cell_type": "code",
   "execution_count": 7,
   "id": "0fae4741",
   "metadata": {},
   "outputs": [],
   "source": [
    "# Remove duplicate values in date list \n",
    "date = pd.unique(date)"
   ]
  },
  {
   "cell_type": "code",
   "execution_count": 8,
   "id": "b05464a1",
   "metadata": {},
   "outputs": [
    {
     "data": {
      "text/html": [
       "<div>\n",
       "<style scoped>\n",
       "    .dataframe tbody tr th:only-of-type {\n",
       "        vertical-align: middle;\n",
       "    }\n",
       "\n",
       "    .dataframe tbody tr th {\n",
       "        vertical-align: top;\n",
       "    }\n",
       "\n",
       "    .dataframe thead th {\n",
       "        text-align: right;\n",
       "    }\n",
       "</style>\n",
       "<table border=\"1\" class=\"dataframe\">\n",
       "  <thead>\n",
       "    <tr style=\"text-align: right;\">\n",
       "      <th></th>\n",
       "      <th>Name</th>\n",
       "      <th>Date</th>\n",
       "      <th>Price</th>\n",
       "      <th>Volume</th>\n",
       "    </tr>\n",
       "  </thead>\n",
       "  <tbody>\n",
       "    <tr>\n",
       "      <th>0</th>\n",
       "      <td>PG</td>\n",
       "      <td>Apr 21, 2023</td>\n",
       "      <td>156.07</td>\n",
       "      <td>14,875,800</td>\n",
       "    </tr>\n",
       "    <tr>\n",
       "      <th>1</th>\n",
       "      <td>PG</td>\n",
       "      <td>Apr 20, 2023</td>\n",
       "      <td>150.85</td>\n",
       "      <td>5,370,900</td>\n",
       "    </tr>\n",
       "    <tr>\n",
       "      <th>2</th>\n",
       "      <td>PG</td>\n",
       "      <td>Apr 19, 2023</td>\n",
       "      <td>151.24</td>\n",
       "      <td>3,837,600</td>\n",
       "    </tr>\n",
       "    <tr>\n",
       "      <th>3</th>\n",
       "      <td>PG</td>\n",
       "      <td>Apr 18, 2023</td>\n",
       "      <td>151.21</td>\n",
       "      <td>4,158,400</td>\n",
       "    </tr>\n",
       "    <tr>\n",
       "      <th>4</th>\n",
       "      <td>PG</td>\n",
       "      <td>Apr 17, 2023</td>\n",
       "      <td>151.05</td>\n",
       "      <td>4,296,400</td>\n",
       "    </tr>\n",
       "  </tbody>\n",
       "</table>\n",
       "</div>"
      ],
      "text/plain": [
       "  Name          Date   Price      Volume\n",
       "0   PG  Apr 21, 2023  156.07  14,875,800\n",
       "1   PG  Apr 20, 2023  150.85   5,370,900\n",
       "2   PG  Apr 19, 2023  151.24   3,837,600\n",
       "3   PG  Apr 18, 2023  151.21   4,158,400\n",
       "4   PG  Apr 17, 2023  151.05   4,296,400"
      ]
     },
     "execution_count": 8,
     "metadata": {},
     "output_type": "execute_result"
    }
   ],
   "source": [
    "# Create dataframe \n",
    "df1 = pd.DataFrame(list(zip(name, date, price, volume)), \n",
    "                 columns = ['Name', 'Date', 'Price', 'Volume'])\n",
    "df1.head()"
   ]
  },
  {
   "cell_type": "code",
   "execution_count": 9,
   "id": "b3001edd",
   "metadata": {},
   "outputs": [
    {
     "data": {
      "text/plain": [
       "Name      object\n",
       "Date      object\n",
       "Price     object\n",
       "Volume    object\n",
       "dtype: object"
      ]
     },
     "execution_count": 9,
     "metadata": {},
     "output_type": "execute_result"
    }
   ],
   "source": [
    "# Checking data types \n",
    "df1.dtypes "
   ]
  },
  {
   "cell_type": "code",
   "execution_count": 10,
   "id": "7565501d",
   "metadata": {},
   "outputs": [],
   "source": [
    "# Replace values \n",
    "df1['Volume'] = df1['Volume'].str.replace(',', '')\n",
    "\n",
    "# Change data type \n",
    "df1['Volume'] = df1['Volume'].astype('int64')"
   ]
  },
  {
   "cell_type": "code",
   "execution_count": 11,
   "id": "6cfca5e5",
   "metadata": {},
   "outputs": [
    {
     "data": {
      "text/plain": [
       "Name              object\n",
       "Date      datetime64[ns]\n",
       "Price            float64\n",
       "Volume             int64\n",
       "dtype: object"
      ]
     },
     "execution_count": 11,
     "metadata": {},
     "output_type": "execute_result"
    }
   ],
   "source": [
    "# Change data type \n",
    "df1['Date'] = df1['Date'].astype('datetime64[ns]')\n",
    "df1['Price'] = df1['Price'].astype('float64')\n",
    "\n",
    "# Checking data type \n",
    "df1.dtypes"
   ]
  },
  {
   "cell_type": "code",
   "execution_count": 12,
   "id": "aaefb8c5",
   "metadata": {},
   "outputs": [],
   "source": [
    "# Export excel data \n",
    "df1.to_excel('PgStockData.xlsx',index=False)"
   ]
  },
  {
   "cell_type": "markdown",
   "id": "31c8e65e",
   "metadata": {},
   "source": [
    "I also crawl stock data of Unilever using this method  "
   ]
  },
  {
   "cell_type": "code",
   "execution_count": 13,
   "id": "b0bb79ce",
   "metadata": {},
   "outputs": [
    {
     "data": {
      "text/html": [
       "<div>\n",
       "<style scoped>\n",
       "    .dataframe tbody tr th:only-of-type {\n",
       "        vertical-align: middle;\n",
       "    }\n",
       "\n",
       "    .dataframe tbody tr th {\n",
       "        vertical-align: top;\n",
       "    }\n",
       "\n",
       "    .dataframe thead th {\n",
       "        text-align: right;\n",
       "    }\n",
       "</style>\n",
       "<table border=\"1\" class=\"dataframe\">\n",
       "  <thead>\n",
       "    <tr style=\"text-align: right;\">\n",
       "      <th></th>\n",
       "      <th>Name</th>\n",
       "      <th>Date</th>\n",
       "      <th>Price</th>\n",
       "      <th>Volume</th>\n",
       "    </tr>\n",
       "  </thead>\n",
       "  <tbody>\n",
       "    <tr>\n",
       "      <th>0</th>\n",
       "      <td>UL</td>\n",
       "      <td>2023-04-21</td>\n",
       "      <td>54.51</td>\n",
       "      <td>2535000</td>\n",
       "    </tr>\n",
       "    <tr>\n",
       "      <th>1</th>\n",
       "      <td>UL</td>\n",
       "      <td>2023-04-20</td>\n",
       "      <td>54.28</td>\n",
       "      <td>1505600</td>\n",
       "    </tr>\n",
       "    <tr>\n",
       "      <th>2</th>\n",
       "      <td>UL</td>\n",
       "      <td>2023-04-19</td>\n",
       "      <td>53.86</td>\n",
       "      <td>1719600</td>\n",
       "    </tr>\n",
       "    <tr>\n",
       "      <th>3</th>\n",
       "      <td>UL</td>\n",
       "      <td>2023-04-18</td>\n",
       "      <td>53.78</td>\n",
       "      <td>2735400</td>\n",
       "    </tr>\n",
       "    <tr>\n",
       "      <th>4</th>\n",
       "      <td>UL</td>\n",
       "      <td>2023-04-17</td>\n",
       "      <td>53.78</td>\n",
       "      <td>1475300</td>\n",
       "    </tr>\n",
       "  </tbody>\n",
       "</table>\n",
       "</div>"
      ],
      "text/plain": [
       "  Name       Date  Price   Volume\n",
       "0   UL 2023-04-21  54.51  2535000\n",
       "1   UL 2023-04-20  54.28  1505600\n",
       "2   UL 2023-04-19  53.86  1719600\n",
       "3   UL 2023-04-18  53.78  2735400\n",
       "4   UL 2023-04-17  53.78  1475300"
      ]
     },
     "execution_count": 13,
     "metadata": {},
     "output_type": "execute_result"
    }
   ],
   "source": [
    "# Load dataframe\n",
    "df2 = pd.read_excel('UlStockData.xlsx')\n",
    "df2.head()"
   ]
  },
  {
   "cell_type": "code",
   "execution_count": 14,
   "id": "ca645bae",
   "metadata": {},
   "outputs": [
    {
     "data": {
      "text/html": [
       "<div>\n",
       "<style scoped>\n",
       "    .dataframe tbody tr th:only-of-type {\n",
       "        vertical-align: middle;\n",
       "    }\n",
       "\n",
       "    .dataframe tbody tr th {\n",
       "        vertical-align: top;\n",
       "    }\n",
       "\n",
       "    .dataframe thead th {\n",
       "        text-align: right;\n",
       "    }\n",
       "</style>\n",
       "<table border=\"1\" class=\"dataframe\">\n",
       "  <thead>\n",
       "    <tr style=\"text-align: right;\">\n",
       "      <th></th>\n",
       "      <th>Name</th>\n",
       "      <th>Date</th>\n",
       "      <th>Price</th>\n",
       "      <th>Volume</th>\n",
       "    </tr>\n",
       "  </thead>\n",
       "  <tbody>\n",
       "    <tr>\n",
       "      <th>0</th>\n",
       "      <td>PG</td>\n",
       "      <td>2023-04-21</td>\n",
       "      <td>156.07</td>\n",
       "      <td>14875800</td>\n",
       "    </tr>\n",
       "    <tr>\n",
       "      <th>1</th>\n",
       "      <td>PG</td>\n",
       "      <td>2023-04-20</td>\n",
       "      <td>150.85</td>\n",
       "      <td>5370900</td>\n",
       "    </tr>\n",
       "    <tr>\n",
       "      <th>2</th>\n",
       "      <td>PG</td>\n",
       "      <td>2023-04-19</td>\n",
       "      <td>151.24</td>\n",
       "      <td>3837600</td>\n",
       "    </tr>\n",
       "    <tr>\n",
       "      <th>3</th>\n",
       "      <td>PG</td>\n",
       "      <td>2023-04-18</td>\n",
       "      <td>151.21</td>\n",
       "      <td>4158400</td>\n",
       "    </tr>\n",
       "    <tr>\n",
       "      <th>4</th>\n",
       "      <td>PG</td>\n",
       "      <td>2023-04-17</td>\n",
       "      <td>151.05</td>\n",
       "      <td>4296400</td>\n",
       "    </tr>\n",
       "  </tbody>\n",
       "</table>\n",
       "</div>"
      ],
      "text/plain": [
       "  Name       Date   Price    Volume\n",
       "0   PG 2023-04-21  156.07  14875800\n",
       "1   PG 2023-04-20  150.85   5370900\n",
       "2   PG 2023-04-19  151.24   3837600\n",
       "3   PG 2023-04-18  151.21   4158400\n",
       "4   PG 2023-04-17  151.05   4296400"
      ]
     },
     "execution_count": 14,
     "metadata": {},
     "output_type": "execute_result"
    }
   ],
   "source": [
    "# Union 2 dataframes\n",
    "df = pd.concat([df1, df2], ignore_index=True)\n",
    "df.head()"
   ]
  },
  {
   "cell_type": "code",
   "execution_count": 15,
   "id": "f0b3e2d3",
   "metadata": {},
   "outputs": [],
   "source": [
    "# Export data \n",
    "df.to_excel('StockData.xlsx')"
   ]
  }
 ],
 "metadata": {
  "kernelspec": {
   "display_name": "Python 3 (ipykernel)",
   "language": "python",
   "name": "python3"
  },
  "language_info": {
   "codemirror_mode": {
    "name": "ipython",
    "version": 3
   },
   "file_extension": ".py",
   "mimetype": "text/x-python",
   "name": "python",
   "nbconvert_exporter": "python",
   "pygments_lexer": "ipython3",
   "version": "3.9.13"
  }
 },
 "nbformat": 4,
 "nbformat_minor": 5
}
