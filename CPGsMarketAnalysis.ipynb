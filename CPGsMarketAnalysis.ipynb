{
 "cells": [
  {
   "cell_type": "code",
   "execution_count": 1,
   "id": "dde6bd9d",
   "metadata": {},
   "outputs": [],
   "source": [
    "# Import libraries\n",
    "from selenium import webdriver\n",
    "from selenium.webdriver.support.select import Select\n",
    "from selenium.webdriver.common.by import By\n",
    "from selenium.common.exceptions import StaleElementReferenceException\n",
    "from selenium.common.exceptions import NoSuchElementException\n",
    "import numpy as np\n",
    "import pandas as pd\n",
    "import time"
   ]
  },
  {
   "cell_type": "code",
   "execution_count": 2,
   "id": "7239d7f4",
   "metadata": {},
   "outputs": [
    {
     "name": "stderr",
     "output_type": "stream",
     "text": [
      "C:\\Users\\ADMIN\\AppData\\Local\\Temp\\ipykernel_13024\\3426370776.py:2: DeprecationWarning: executable_path has been deprecated, please pass in a Service object\n",
      "  driver = webdriver.Chrome('chromedriver.exe')\n"
     ]
    }
   ],
   "source": [
    "# Declare browser \n",
    "driver = webdriver.Chrome('chromedriver.exe') \n",
    "# Open url \n",
    "driver.get('https://www.amazon.com/ref=nav_logo')\n",
    "driver.maximize_window()\n",
    "time.sleep(2)\n",
    "\n",
    "product_name = driver.find_element(By.XPATH,'//div[@class=\"nav-search-field \"]/input')\n",
    "product_name.click()\n",
    "product_name.send_keys('Dove')\n",
    "time.sleep(2)\n",
    "\n",
    "search = driver.find_element(By.XPATH,'//div[@class=\"nav-right\"]/div/span/input')\n",
    "search.click()\n",
    "time.sleep(2)"
   ]
  },
  {
   "cell_type": "markdown",
   "id": "431414e0",
   "metadata": {},
   "source": [
    "### Crawl Dove's Price Data "
   ]
  },
  {
   "cell_type": "code",
   "execution_count": 3,
   "id": "c6399526",
   "metadata": {},
   "outputs": [],
   "source": [
    "brands, price = [], []\n",
    "brand = 'Dove'\n",
    "for i in range(7):\n",
    "    price_list = driver.find_elements(By.XPATH,'//div[@class=\"a-row a-size-base a-color-base\"]/a/span[1]/span')\n",
    "    \n",
    "    for j in range(len(price_list)):\n",
    "        brands.append(brand)\n",
    "        price.append(price_list[j].text)\n",
    "        \n",
    "    try: \n",
    "        next = driver.find_element(By.XPATH,'//a[@class=\"s-pagination-item s-pagination-next s-pagination-button s-pagination-separator\"]')\n",
    "        next.click()\n",
    "        time.sleep(5)\n",
    "    except NoSuchElementException:\n",
    "        pass"
   ]
  },
  {
   "cell_type": "markdown",
   "id": "74f46590",
   "metadata": {},
   "source": [
    "### Crawl Price Data for other Brands"
   ]
  },
  {
   "cell_type": "code",
   "execution_count": 4,
   "id": "a7a20551",
   "metadata": {},
   "outputs": [],
   "source": [
    "brand_list = ['Sunsilk', 'Axe body', 'Rexona', 'Head and shoulders shampoo', 'Pantene shampoo', 'Old spice', 'Olay']\n",
    "for k in range(len(brand_list)):\n",
    "    driver.find_element(By.NAME,'field-keywords').clear()\n",
    "    brand_search = driver.find_element(By.NAME,'field-keywords')\n",
    "    brand_search.click()\n",
    "    brand_search.send_keys(brand_list[k])\n",
    "    search = driver.find_element(By.ID,'nav-search-submit-button')\n",
    "    search.click()\n",
    "    time.sleep(5)\n",
    "    \n",
    "    for i in range(7):\n",
    "        price_list = driver.find_elements(By.XPATH,'//div[@class=\"a-row a-size-base a-color-base\"]/a/span[1]')\n",
    "\n",
    "        for j in range(len(price_list)):\n",
    "            try: \n",
    "                brands.append(brand_list[k])\n",
    "                price.append(price_list[j].text)\n",
    "            except NoSuchElementException:\n",
    "                pass \n",
    "\n",
    "        try: \n",
    "            next = driver.find_element(By.XPATH,'//a[@class=\"s-pagination-item s-pagination-next s-pagination-button s-pagination-separator\"]')\n",
    "            next.click()\n",
    "            time.sleep(5)\n",
    "        except NoSuchElementException:\n",
    "            pass"
   ]
  },
  {
   "cell_type": "code",
   "execution_count": 5,
   "id": "e71e83f0",
   "metadata": {},
   "outputs": [
    {
     "data": {
      "text/html": [
       "<div>\n",
       "<style scoped>\n",
       "    .dataframe tbody tr th:only-of-type {\n",
       "        vertical-align: middle;\n",
       "    }\n",
       "\n",
       "    .dataframe tbody tr th {\n",
       "        vertical-align: top;\n",
       "    }\n",
       "\n",
       "    .dataframe thead th {\n",
       "        text-align: right;\n",
       "    }\n",
       "</style>\n",
       "<table border=\"1\" class=\"dataframe\">\n",
       "  <thead>\n",
       "    <tr style=\"text-align: right;\">\n",
       "      <th></th>\n",
       "      <th>Brand</th>\n",
       "      <th>Price</th>\n",
       "    </tr>\n",
       "  </thead>\n",
       "  <tbody>\n",
       "    <tr>\n",
       "      <th>0</th>\n",
       "      <td>Dove</td>\n",
       "      <td></td>\n",
       "    </tr>\n",
       "    <tr>\n",
       "      <th>1</th>\n",
       "      <td>Dove</td>\n",
       "      <td>$15\\n70</td>\n",
       "    </tr>\n",
       "    <tr>\n",
       "      <th>2</th>\n",
       "      <td>Dove</td>\n",
       "      <td></td>\n",
       "    </tr>\n",
       "    <tr>\n",
       "      <th>3</th>\n",
       "      <td>Dove</td>\n",
       "      <td>$8\\n97</td>\n",
       "    </tr>\n",
       "    <tr>\n",
       "      <th>4</th>\n",
       "      <td>Dove</td>\n",
       "      <td></td>\n",
       "    </tr>\n",
       "  </tbody>\n",
       "</table>\n",
       "</div>"
      ],
      "text/plain": [
       "  Brand    Price\n",
       "0  Dove         \n",
       "1  Dove  $15\\n70\n",
       "2  Dove         \n",
       "3  Dove   $8\\n97\n",
       "4  Dove         "
      ]
     },
     "execution_count": 5,
     "metadata": {},
     "output_type": "execute_result"
    }
   ],
   "source": [
    "# Create dataframe \n",
    "df = pd.DataFrame(list(zip(brands, price)),\n",
    "                  columns=['Brand','Price'])\n",
    "df.head()"
   ]
  },
  {
   "cell_type": "code",
   "execution_count": 6,
   "id": "33e4012f",
   "metadata": {},
   "outputs": [
    {
     "data": {
      "text/plain": [
       "Brand    object\n",
       "Price    object\n",
       "dtype: object"
      ]
     },
     "execution_count": 6,
     "metadata": {},
     "output_type": "execute_result"
    }
   ],
   "source": [
    "# Check data type \n",
    "df.dtypes"
   ]
  },
  {
   "cell_type": "code",
   "execution_count": 7,
   "id": "e269cbc0",
   "metadata": {},
   "outputs": [
    {
     "name": "stderr",
     "output_type": "stream",
     "text": [
      "C:\\Users\\ADMIN\\AppData\\Local\\Temp\\ipykernel_13024\\887882839.py:2: FutureWarning: The default value of regex will change from True to False in a future version. In addition, single character regular expressions will *not* be treated as literal strings when regex=True.\n",
      "  df['Price'] = df['Price'].str.replace('$','')\n"
     ]
    }
   ],
   "source": [
    "# Replace data \n",
    "df['Price'] = df['Price'].str.replace('$','')\n",
    "df['Price'] = df['Price'].str.replace('\\n', '.')\n",
    "\n",
    "# Change data type \n",
    "df['Price'] = pd.to_numeric(df['Price'], errors=\"coerce\")"
   ]
  },
  {
   "cell_type": "code",
   "execution_count": 9,
   "id": "298d1f34",
   "metadata": {},
   "outputs": [
    {
     "data": {
      "text/html": [
       "<div>\n",
       "<style scoped>\n",
       "    .dataframe tbody tr th:only-of-type {\n",
       "        vertical-align: middle;\n",
       "    }\n",
       "\n",
       "    .dataframe tbody tr th {\n",
       "        vertical-align: top;\n",
       "    }\n",
       "\n",
       "    .dataframe thead th {\n",
       "        text-align: right;\n",
       "    }\n",
       "</style>\n",
       "<table border=\"1\" class=\"dataframe\">\n",
       "  <thead>\n",
       "    <tr style=\"text-align: right;\">\n",
       "      <th></th>\n",
       "      <th>Brand</th>\n",
       "      <th>Price</th>\n",
       "    </tr>\n",
       "  </thead>\n",
       "  <tbody>\n",
       "    <tr>\n",
       "      <th>0</th>\n",
       "      <td>Dove</td>\n",
       "      <td>NaN</td>\n",
       "    </tr>\n",
       "    <tr>\n",
       "      <th>1</th>\n",
       "      <td>Dove</td>\n",
       "      <td>15.70</td>\n",
       "    </tr>\n",
       "    <tr>\n",
       "      <th>2</th>\n",
       "      <td>Dove</td>\n",
       "      <td>NaN</td>\n",
       "    </tr>\n",
       "    <tr>\n",
       "      <th>3</th>\n",
       "      <td>Dove</td>\n",
       "      <td>8.97</td>\n",
       "    </tr>\n",
       "    <tr>\n",
       "      <th>4</th>\n",
       "      <td>Dove</td>\n",
       "      <td>NaN</td>\n",
       "    </tr>\n",
       "  </tbody>\n",
       "</table>\n",
       "</div>"
      ],
      "text/plain": [
       "  Brand  Price\n",
       "0  Dove    NaN\n",
       "1  Dove  15.70\n",
       "2  Dove    NaN\n",
       "3  Dove   8.97\n",
       "4  Dove    NaN"
      ]
     },
     "execution_count": 9,
     "metadata": {},
     "output_type": "execute_result"
    }
   ],
   "source": [
    "df.head()"
   ]
  },
  {
   "cell_type": "code",
   "execution_count": 10,
   "id": "d41cfa02",
   "metadata": {},
   "outputs": [
    {
     "data": {
      "text/plain": [
       "344"
      ]
     },
     "execution_count": 10,
     "metadata": {},
     "output_type": "execute_result"
    }
   ],
   "source": [
    "# Checking null values \n",
    "df['Price'].isnull().sum()"
   ]
  },
  {
   "cell_type": "code",
   "execution_count": 11,
   "id": "f389a5d4",
   "metadata": {},
   "outputs": [],
   "source": [
    "# Drop null values \n",
    "df.dropna(subset=['Price'], inplace=True)"
   ]
  },
  {
   "cell_type": "code",
   "execution_count": 12,
   "id": "b03c6033",
   "metadata": {},
   "outputs": [
    {
     "data": {
      "text/html": [
       "<div>\n",
       "<style scoped>\n",
       "    .dataframe tbody tr th:only-of-type {\n",
       "        vertical-align: middle;\n",
       "    }\n",
       "\n",
       "    .dataframe tbody tr th {\n",
       "        vertical-align: top;\n",
       "    }\n",
       "\n",
       "    .dataframe thead th {\n",
       "        text-align: right;\n",
       "    }\n",
       "</style>\n",
       "<table border=\"1\" class=\"dataframe\">\n",
       "  <thead>\n",
       "    <tr style=\"text-align: right;\">\n",
       "      <th></th>\n",
       "      <th>Brand</th>\n",
       "      <th>Price</th>\n",
       "    </tr>\n",
       "  </thead>\n",
       "  <tbody>\n",
       "    <tr>\n",
       "      <th>1</th>\n",
       "      <td>Dove</td>\n",
       "      <td>15.70</td>\n",
       "    </tr>\n",
       "    <tr>\n",
       "      <th>3</th>\n",
       "      <td>Dove</td>\n",
       "      <td>8.97</td>\n",
       "    </tr>\n",
       "    <tr>\n",
       "      <th>5</th>\n",
       "      <td>Dove</td>\n",
       "      <td>32.37</td>\n",
       "    </tr>\n",
       "    <tr>\n",
       "      <th>7</th>\n",
       "      <td>Dove</td>\n",
       "      <td>14.49</td>\n",
       "    </tr>\n",
       "    <tr>\n",
       "      <th>9</th>\n",
       "      <td>Dove</td>\n",
       "      <td>27.96</td>\n",
       "    </tr>\n",
       "  </tbody>\n",
       "</table>\n",
       "</div>"
      ],
      "text/plain": [
       "  Brand  Price\n",
       "1  Dove  15.70\n",
       "3  Dove   8.97\n",
       "5  Dove  32.37\n",
       "7  Dove  14.49\n",
       "9  Dove  27.96"
      ]
     },
     "execution_count": 12,
     "metadata": {},
     "output_type": "execute_result"
    }
   ],
   "source": [
    "df.head()"
   ]
  },
  {
   "cell_type": "code",
   "execution_count": 13,
   "id": "60e23292",
   "metadata": {
    "scrolled": true
   },
   "outputs": [],
   "source": [
    "# Export data \n",
    "df.to_excel('Price.xlsx',index=False)"
   ]
  },
  {
   "cell_type": "markdown",
   "id": "e7a6a255",
   "metadata": {},
   "source": [
    "I'm also use this method to crawl rating data "
   ]
  }
 ],
 "metadata": {
  "kernelspec": {
   "display_name": "Python 3 (ipykernel)",
   "language": "python",
   "name": "python3"
  },
  "language_info": {
   "codemirror_mode": {
    "name": "ipython",
    "version": 3
   },
   "file_extension": ".py",
   "mimetype": "text/x-python",
   "name": "python",
   "nbconvert_exporter": "python",
   "pygments_lexer": "ipython3",
   "version": "3.9.13"
  }
 },
 "nbformat": 4,
 "nbformat_minor": 5
}
